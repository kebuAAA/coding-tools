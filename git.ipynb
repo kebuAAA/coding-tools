{
 "cells": [
  {
   "cell_type": "markdown",
   "metadata": {},
   "source": [
    "## 初始化"
   ]
  },
  {
   "cell_type": "code",
   "execution_count": null,
   "metadata": {
    "vscode": {
     "languageId": "shellscript"
    }
   },
   "outputs": [],
   "source": [
    "#将一个文件夹初始化为一个git 仓库\n",
    "git init\n",
    "#将文件夹下的所有文件添加到git仓库(添加到暂存区)\n",
    "git add *\n",
    "#提交文件到git仓库（添加到本地的Head中）\n",
    "git commit -m \"first commit\""
   ]
  },
  {
   "cell_type": "markdown",
   "metadata": {},
   "source": [
    "# fork别人仓库同步更改\n",
    "期望实现的目标是代码保存在自己的仓库中，但是如果fork的上游代码有变动，同步到自己的仓库中。"
   ]
  },
  {
   "cell_type": "code",
   "execution_count": null,
   "metadata": {
    "vscode": {
     "languageId": "shellscript"
    }
   },
   "outputs": [],
   "source": [
    "# 查看当前远程仓库的配置\n",
    "git remote -v\n",
    "#添加上游仓库\n",
    "git remote add upstream https://github.com/ORIGINAL_OWNER/repo.git"
   ]
  },
  {
   "cell_type": "markdown",
   "metadata": {},
   "source": [
    "# github国内访问配置"
   ]
  },
  {
   "cell_type": "markdown",
   "metadata": {},
   "source": [
    "修改配置文件:\n",
    "```bash\n",
    "sudo vim /etc/hosts\n",
    "```\n",
    "```bash\n",
    "# add github.com\n",
    "\n",
    "140.82.121.4 github.com\n",
    "\n",
    "199.232.69.194 github.global.ssl.fastly.net\n",
    "\n",
    "# github.com end\n",
    "\n",
    "# 作者：半夏半暖半倾城灬\n",
    "# 链接：https://www.jianshu.com/p/019d6a213459\n",
    "# 来源：简书\n",
    "# 著作权归作者所有。商业转载请联系作者获得授权，非商业转载请注明出处。\n",
    "```"
   ]
  }
 ],
 "metadata": {
  "kernelspec": {
   "display_name": "Python 3",
   "language": "python",
   "name": "python3"
  },
  "language_info": {
   "name": "python",
   "version": "3.11.9"
  }
 },
 "nbformat": 4,
 "nbformat_minor": 2
}
